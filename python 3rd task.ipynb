# importing the random module
import random

#Welcome users to play the game
print("Hey buddie, Welcome to the START-NG Guessing Game!")

# Set up main variables
difficulty_ranges = {'e':10, 'm':20, 'h':50}  

#Use dictionary to set up game levels
while True:
    user_level = input(
            "Type E, M or H for easy (1-10), medium (1-20), or hard (1-50) number range:\n").lower()   
    try:
        secret_number = random.randint(1, difficulty_ranges[user_level])
        break
    except KeyError:
        print("Incorrect input! Choose again...")  # Encourage user to input correctly
        continue

guess_count = 0
try_limit = 6
while guess_count < try_limit:
    if user_level == 'e':
        try: 
            guess_count += 1
            player_input = int(input("Guess the secret number, it is between 1 - 10: "))
            if player_input<1 or player_input>10:
                print("Your input was incorrect, Enter a value between 1 and 10 \n")
                continue
            else: 
                pass
                if player_input == secret_number:
                    print("You got it right!")
                    break
                elif player_input != secret_number:
                    print(f'That was wrong! you have {try_limit-guess_count} attempts left')
                    continue
        except ValueError:
            print("Incorrect input! Choose a number")
            continue
            
    elif user_level == 'm':
        try_limit = 4
        try: 
            guess_count += 1
            player_input = int(input("Guess the secret number, it is between 1 - 20: "))
            if player_input<1 or player_input>20:
                print("Your input was incorrect, Enter a value between 1 and 20 \n")
                continue
            else: 
                pass
                if player_input == secret_number:
                    print("You got it right!")
                    break
                elif player_input != secret_number:
                    print(f'That was wrong! you have {try_limit-guess_count} attempts left')
                    continue
        except ValueError:
            print("Incorrect input! Choose a number")
            continue

    elif user_level == 'h':
        try_limit = 3
        try: 
            guess_count += 1
            player_input = int(input("Guess the secret number, it is between 1 - 50: "))
            if player_input<1 or player_input>50:
                print("Your input was incorrect, Enter a value between 1 and 50 \n")
                continue
            else: 
                pass
                if player_input == secret_number:
                    print("You got it right!")
                    break
                elif player_input != secret_number:
                    print(f'That was wrong! you have {try_limit-guess_count} attempts left')
                    continue
        except ValueError:
            print("Incorrect input! Choose a number")
            continue
while guess_count == try_limit:
    print("Game Over!")
    break
